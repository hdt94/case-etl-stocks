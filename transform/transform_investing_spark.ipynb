{
 "cells": [
  {
   "cell_type": "code",
   "execution_count": 1,
   "metadata": {},
   "outputs": [],
   "source": [
    "%load_ext dotenv\n",
    "%dotenv"
   ]
  },
  {
   "cell_type": "code",
   "execution_count": 2,
   "metadata": {},
   "outputs": [],
   "source": [
    "import os\n",
    "\n",
    "INPUT_CSV_TRANSFORM = os.getenv(\"INPUT_CSV_TRANSFORM\")\n",
    "\n",
    "assert INPUT_CSV_TRANSFORM != None, \"Missing INPUT_CSV_TRANSFORM\""
   ]
  },
  {
   "cell_type": "code",
   "execution_count": 3,
   "metadata": {},
   "outputs": [],
   "source": [
    "import transform_investing_spark as ti\n",
    "\n",
    "from common.constants import BALANCE_ARRAY_COLS, INCOME_ARRAY_COLS\n",
    "\n",
    "%load_ext autoreload\n",
    "%autoreload 1\n",
    "%aimport common, transform_investing_spark"
   ]
  },
  {
   "cell_type": "markdown",
   "metadata": {},
   "source": [
    "Spark session:"
   ]
  },
  {
   "cell_type": "code",
   "execution_count": 4,
   "metadata": {},
   "outputs": [
    {
     "name": "stdout",
     "output_type": "stream",
     "text": [
      "22/10/15 15:14:52 WARN Utils: Your hostname, xenial64 resolves to a loopback address: 127.0.2.1; using 10.0.2.15 instead (on interface enp0s3)\n",
      "22/10/15 15:14:52 WARN Utils: Set SPARK_LOCAL_IP if you need to bind to another address\n"
     ]
    },
    {
     "name": "stderr",
     "output_type": "stream",
     "text": [
      "Setting default log level to \"WARN\".\n",
      "To adjust logging level use sc.setLogLevel(newLevel). For SparkR, use setLogLevel(newLevel).\n"
     ]
    },
    {
     "name": "stdout",
     "output_type": "stream",
     "text": [
      "22/10/15 15:14:54 WARN NativeCodeLoader: Unable to load native-hadoop library for your platform... using builtin-java classes where applicable\n"
     ]
    }
   ],
   "source": [
    "from pyspark.sql import SparkSession\n",
    "\n",
    "spark = (\n",
    "    SparkSession\n",
    "    .builder\n",
    "    .master('local[*]')\n",
    "    .config('spark.ui.port', '5050')\n",
    "    .appName('transform_investing')\n",
    "    .getOrCreate()\n",
    ")"
   ]
  },
  {
   "cell_type": "markdown",
   "metadata": {},
   "source": [
    "Reading data:"
   ]
  },
  {
   "cell_type": "code",
   "execution_count": 5,
   "metadata": {},
   "outputs": [
    {
     "name": "stderr",
     "output_type": "stream",
     "text": [
      "                                                                                \r"
     ]
    },
    {
     "name": "stdout",
     "output_type": "stream",
     "text": [
      "+-------------+---------+----------------+--------------------+----------------+--------------------+\n",
      "|     stock_id|source_id|       page_name|     extraction_time|          metric|               value|\n",
      "+-------------+---------+----------------+--------------------+----------------+--------------------+\n",
      "|     CIB:NYSE|investing|         general|2022-10-14T18:52:...|        currency|                 USD|\n",
      "|     CIB:NYSE|investing|         general|2022-10-14T18:52:...|           price|               25.09|\n",
      "|     CIB:NYSE|investing|         general|2022-10-14T18:52:...|          shares|         961,827,000|\n",
      "|  AAPL:NASDAQ|investing|   balance-sheet|2022-10-14T18:52:...|      date_years| 2022,2022,2021,2021|\n",
      "|  AAPL:NASDAQ|investing|         general|2022-10-14T18:52:...|        currency|                 USD|\n",
      "|     CIB:NYSE|investing|   balance-sheet|2022-10-14T18:52:...|      date_years| 2022,2022,2021,2021|\n",
      "|      EC:NYSE|investing|         general|2022-10-14T18:52:...|        currency|                 USD|\n",
      "|  AAPL:NASDAQ|investing|   balance-sheet|2022-10-14T18:52:...|date_days_months|25/06,26/03,25/12...|\n",
      "|  AAPL:NASDAQ|investing|   balance-sheet|2022-10-14T18:52:...|          equity|58107,67399,71932...|\n",
      "|  AAPL:NASDAQ|investing|         general|2022-10-14T18:52:...|           price|              138.52|\n",
      "|  AAPL:NASDAQ|investing|         general|2022-10-14T18:52:...|          shares|      16,070,752,000|\n",
      "|     CIB:NYSE|investing|   balance-sheet|2022-10-14T18:52:...|date_days_months|30/06,31/03,31/12...|\n",
      "|     CIB:NYSE|investing|   balance-sheet|2022-10-14T18:52:...|          equity|35099020,30200262...|\n",
      "|      EC:NYSE|investing|         general|2022-10-14T18:52:...|           price|                9.22|\n",
      "|      EC:NYSE|investing|         general|2022-10-14T18:52:...|          shares|      41,116,694,690|\n",
      "|  AAPL:NASDAQ|investing|   balance-sheet|2022-10-14T18:52:...|     money_units|* In Millions of ...|\n",
      "|ECOPETROL:BVC|investing|         general|2022-10-14T18:52:...|        currency|                 COP|\n",
      "|  AAPL:NASDAQ|investing|income-statement|2022-10-14T18:52:...|      date_years| 2022,2022,2021,2021|\n",
      "|      EC:NYSE|investing|   balance-sheet|2022-10-14T18:52:...|      date_years| 2022,2022,2021,2021|\n",
      "|     CIB:NYSE|investing|income-statement|2022-10-14T18:52:...|      date_years| 2022,2022,2021,2021|\n",
      "+-------------+---------+----------------+--------------------+----------------+--------------------+\n",
      "only showing top 20 rows\n",
      "\n"
     ]
    }
   ],
   "source": [
    "raw_df = spark.read.csv(INPUT_CSV_TRANSFORM, header=True)\n",
    "raw_df.show()"
   ]
  },
  {
   "cell_type": "code",
   "execution_count": 6,
   "metadata": {},
   "outputs": [
    {
     "name": "stderr",
     "output_type": "stream",
     "text": [
      "                                                                                \r"
     ]
    },
    {
     "name": "stdout",
     "output_type": "stream",
     "text": [
      "+-----------+---------+---------+--------------------+--------+------+\n",
      "|   stock_id|source_id|page_name|     extraction_time|  metric| value|\n",
      "+-----------+---------+---------+--------------------+--------+------+\n",
      "|   CIB:NYSE|   google|    quote|2022-10-14T18:53:...|   price|    25|\n",
      "|   CIB:NYSE|   google|    quote|2022-10-14T18:53:...|pe_ratio|  4.66|\n",
      "|AAPL:NASDAQ|   google|    quote|2022-10-14T18:53:...|   price|138.69|\n",
      "|AAPL:NASDAQ|   google|    quote|2022-10-14T18:53:...|pe_ratio| 22.91|\n",
      "|    EC:NYSE|   google|    quote|2022-10-14T18:53:...|   price|   9.2|\n",
      "|    EC:NYSE|   google|    quote|2022-10-14T18:53:...|pe_ratio|  3.21|\n",
      "+-----------+---------+---------+--------------------+--------+------+\n",
      "\n"
     ]
    }
   ],
   "source": [
    "raw_df.filter('source_id == \"google\"').show()"
   ]
  },
  {
   "cell_type": "code",
   "execution_count": 7,
   "metadata": {},
   "outputs": [
    {
     "name": "stdout",
     "output_type": "stream",
     "text": [
      "+-------------+----------------+--------------------+----------------+--------------------+\n",
      "|     stock_id|       page_name|     extraction_time|          metric|               value|\n",
      "+-------------+----------------+--------------------+----------------+--------------------+\n",
      "|     CIB:NYSE|         general|2022-10-14T18:52:...|        currency|                 USD|\n",
      "|     CIB:NYSE|         general|2022-10-14T18:52:...|           price|               25.09|\n",
      "|     CIB:NYSE|         general|2022-10-14T18:52:...|          shares|         961,827,000|\n",
      "|  AAPL:NASDAQ|   balance-sheet|2022-10-14T18:52:...|      date_years| 2022,2022,2021,2021|\n",
      "|  AAPL:NASDAQ|         general|2022-10-14T18:52:...|        currency|                 USD|\n",
      "|     CIB:NYSE|   balance-sheet|2022-10-14T18:52:...|      date_years| 2022,2022,2021,2021|\n",
      "|      EC:NYSE|         general|2022-10-14T18:52:...|        currency|                 USD|\n",
      "|  AAPL:NASDAQ|   balance-sheet|2022-10-14T18:52:...|date_days_months|25/06,26/03,25/12...|\n",
      "|  AAPL:NASDAQ|   balance-sheet|2022-10-14T18:52:...|          equity|58107,67399,71932...|\n",
      "|  AAPL:NASDAQ|         general|2022-10-14T18:52:...|           price|              138.52|\n",
      "|  AAPL:NASDAQ|         general|2022-10-14T18:52:...|          shares|      16,070,752,000|\n",
      "|     CIB:NYSE|   balance-sheet|2022-10-14T18:52:...|date_days_months|30/06,31/03,31/12...|\n",
      "|     CIB:NYSE|   balance-sheet|2022-10-14T18:52:...|          equity|35099020,30200262...|\n",
      "|      EC:NYSE|         general|2022-10-14T18:52:...|           price|                9.22|\n",
      "|      EC:NYSE|         general|2022-10-14T18:52:...|          shares|      41,116,694,690|\n",
      "|  AAPL:NASDAQ|   balance-sheet|2022-10-14T18:52:...|     money_units|* In Millions of ...|\n",
      "|ECOPETROL:BVC|         general|2022-10-14T18:52:...|        currency|                 COP|\n",
      "|  AAPL:NASDAQ|income-statement|2022-10-14T18:52:...|      date_years| 2022,2022,2021,2021|\n",
      "|      EC:NYSE|   balance-sheet|2022-10-14T18:52:...|      date_years| 2022,2022,2021,2021|\n",
      "|     CIB:NYSE|income-statement|2022-10-14T18:52:...|      date_years| 2022,2022,2021,2021|\n",
      "+-------------+----------------+--------------------+----------------+--------------------+\n",
      "only showing top 20 rows\n",
      "\n"
     ]
    }
   ],
   "source": [
    "investing_df = (\n",
    "    raw_df\n",
    "    .filter(\"source_id == 'investing'\")\n",
    "    .drop(\"source_id\")\n",
    ")\n",
    "investing_df.show()"
   ]
  },
  {
   "cell_type": "code",
   "execution_count": 8,
   "metadata": {},
   "outputs": [
    {
     "name": "stderr",
     "output_type": "stream",
     "text": [
      "[Stage 4:>                                                          (0 + 1) / 1]\r"
     ]
    },
    {
     "name": "stdout",
     "output_type": "stream",
     "text": [
      "+----------------+\n",
      "|       page_name|\n",
      "+----------------+\n",
      "|   balance-sheet|\n",
      "|         general|\n",
      "|income-statement|\n",
      "+----------------+\n",
      "\n"
     ]
    },
    {
     "name": "stderr",
     "output_type": "stream",
     "text": [
      "                                                                                \r"
     ]
    }
   ],
   "source": [
    "investing_df.select(\"page_name\").distinct().show()"
   ]
  },
  {
   "cell_type": "markdown",
   "metadata": {},
   "source": [
    "Page: `general`"
   ]
  },
  {
   "cell_type": "code",
   "execution_count": 9,
   "metadata": {},
   "outputs": [
    {
     "name": "stderr",
     "output_type": "stream",
     "text": [
      "[Stage 15:>                                                         (0 + 1) / 1]\r"
     ]
    },
    {
     "name": "stdout",
     "output_type": "stream",
     "text": [
      "+-------------+---------+--------------------+--------+--------+--------------+\n",
      "|     stock_id|page_name|     extraction_time|currency|   price|        shares|\n",
      "+-------------+---------+--------------------+--------+--------+--------------+\n",
      "|  AAPL:NASDAQ|  general|2022-10-14T18:52:...|     USD|  138.52|16,070,752,000|\n",
      "|BCOLOMBIA:BVC|  general|2022-10-14T18:52:...|     COP|34,200.0|   961,827,000|\n",
      "|     CIB:NYSE|  general|2022-10-14T18:52:...|     USD|   25.09|   961,827,000|\n",
      "|      EC:NYSE|  general|2022-10-14T18:52:...|     USD|    9.22|41,116,694,690|\n",
      "|ECOPETROL:BVC|  general|2022-10-14T18:52:...|     COP| 2,163.0|41,116,694,690|\n",
      "| PFBCOLOM:BVC|  general|2022-10-14T18:53:...|     COP|28,560.0|   961,827,000|\n",
      "+-------------+---------+--------------------+--------+--------+--------------+\n",
      "\n"
     ]
    },
    {
     "name": "stderr",
     "output_type": "stream",
     "text": [
      "                                                                                \r"
     ]
    }
   ],
   "source": [
    "general_df = ti.get_pivoted_page_df(investing_df, \"general\")\n",
    "general_df.show()"
   ]
  },
  {
   "cell_type": "code",
   "execution_count": 10,
   "metadata": {},
   "outputs": [
    {
     "name": "stdout",
     "output_type": "stream",
     "text": [
      "+-------------+---------+--------------------+--------+-------+-----------+\n",
      "|     stock_id|page_name|     extraction_time|currency|  price|     shares|\n",
      "+-------------+---------+--------------------+--------+-------+-----------+\n",
      "|  AAPL:NASDAQ|  general|2022-10-14T18:52:...|     USD| 138.52|16070752000|\n",
      "|BCOLOMBIA:BVC|  general|2022-10-14T18:52:...|     COP|34200.0|  961827000|\n",
      "|     CIB:NYSE|  general|2022-10-14T18:52:...|     USD|  25.09|  961827000|\n",
      "|      EC:NYSE|  general|2022-10-14T18:52:...|     USD|   9.22|41116694690|\n",
      "|ECOPETROL:BVC|  general|2022-10-14T18:52:...|     COP| 2163.0|41116694690|\n",
      "| PFBCOLOM:BVC|  general|2022-10-14T18:53:...|     COP|28560.0|  961827000|\n",
      "+-------------+---------+--------------------+--------+-------+-----------+\n",
      "\n"
     ]
    }
   ],
   "source": [
    "from pyspark.sql.functions import regexp_replace\n",
    "\n",
    "general_df = (\n",
    "    general_df\n",
    "    .withColumn(\"price\", regexp_replace(\"price\", \",\", \"\"))\n",
    "    .withColumn(\"shares\", regexp_replace(\"shares\", \",\", \"\"))\n",
    ")\n",
    "general_df.show()"
   ]
  },
  {
   "cell_type": "markdown",
   "metadata": {},
   "source": [
    "Page: `balance`"
   ]
  },
  {
   "cell_type": "code",
   "execution_count": 11,
   "metadata": {},
   "outputs": [
    {
     "name": "stderr",
     "output_type": "stream",
     "text": [
      "[Stage 29:>                                                         (0 + 1) / 1]\r"
     ]
    },
    {
     "name": "stdout",
     "output_type": "stream",
     "text": [
      "+-------------+-------------+--------------------+--------------------+-------------------+--------------------+--------------------+\n",
      "|     stock_id|    page_name|     extraction_time|    date_days_months|         date_years|              equity|         money_units|\n",
      "+-------------+-------------+--------------------+--------------------+-------------------+--------------------+--------------------+\n",
      "|  AAPL:NASDAQ|balance-sheet|2022-10-14T18:52:...|25/06,26/03,25/12...|2022,2022,2021,2021|58107,67399,71932...|* In Millions of ...|\n",
      "|BCOLOMBIA:BVC|balance-sheet|2022-10-14T18:53:...|30/06,31/03,31/12...|2022,2022,2021,2021|35099020,30200262...|* In Millions of ...|\n",
      "|     CIB:NYSE|balance-sheet|2022-10-14T18:52:...|30/06,31/03,31/12...|2022,2022,2021,2021|35099020,30200262...|* In Millions of ...|\n",
      "|      EC:NYSE|balance-sheet|2022-10-14T18:52:...|30/06,31/03,31/12...|2022,2022,2021,2021|-,89144201,717330...|* In Millions of ...|\n",
      "|ECOPETROL:BVC|balance-sheet|2022-10-14T18:52:...|30/06,31/03,31/12...|2022,2022,2021,2021|-,89144201,717330...|* In Millions of ...|\n",
      "| PFBCOLOM:BVC|balance-sheet|2022-10-14T18:53:...|30/06,31/03,31/12...|2022,2022,2021,2021|35099020,30200262...|* In Millions of ...|\n",
      "+-------------+-------------+--------------------+--------------------+-------------------+--------------------+--------------------+\n",
      "\n"
     ]
    },
    {
     "name": "stderr",
     "output_type": "stream",
     "text": [
      "                                                                                \r"
     ]
    }
   ],
   "source": [
    "balance_df = ti.get_pivoted_page_df(investing_df, \"balance-sheet\")\n",
    "balance_df.show()"
   ]
  },
  {
   "cell_type": "code",
   "execution_count": 12,
   "metadata": {},
   "outputs": [
    {
     "name": "stdout",
     "output_type": "stream",
     "text": [
      "+-------------+-------------+--------------------+--------------------+-------------------+--------------------+--------+--------+\n",
      "|     stock_id|    page_name|     extraction_time|    date_days_months|         date_years|              equity|  factor|currency|\n",
      "+-------------+-------------+--------------------+--------------------+-------------------+--------------------+--------+--------+\n",
      "|  AAPL:NASDAQ|balance-sheet|2022-10-14T18:52:...|25/06,26/03,25/12...|2022,2022,2021,2021|58107,67399,71932...|Millions|     USD|\n",
      "|BCOLOMBIA:BVC|balance-sheet|2022-10-14T18:53:...|30/06,31/03,31/12...|2022,2022,2021,2021|35099020,30200262...|Millions|     COP|\n",
      "|     CIB:NYSE|balance-sheet|2022-10-14T18:52:...|30/06,31/03,31/12...|2022,2022,2021,2021|35099020,30200262...|Millions|     COP|\n",
      "|      EC:NYSE|balance-sheet|2022-10-14T18:52:...|30/06,31/03,31/12...|2022,2022,2021,2021|-,89144201,717330...|Millions|        |\n",
      "|ECOPETROL:BVC|balance-sheet|2022-10-14T18:52:...|30/06,31/03,31/12...|2022,2022,2021,2021|-,89144201,717330...|Millions|     COP|\n",
      "| PFBCOLOM:BVC|balance-sheet|2022-10-14T18:53:...|30/06,31/03,31/12...|2022,2022,2021,2021|35099020,30200262...|Millions|     COP|\n",
      "+-------------+-------------+--------------------+--------------------+-------------------+--------------------+--------+--------+\n",
      "\n"
     ]
    }
   ],
   "source": [
    "balance_df = ti.transform_money_units(balance_df)\n",
    "balance_df.show()"
   ]
  },
  {
   "cell_type": "code",
   "execution_count": 13,
   "metadata": {},
   "outputs": [
    {
     "name": "stdout",
     "output_type": "stream",
     "text": [
      "+-------------+-------------+--------------------+--------+--------+----------+----------------+--------+\n",
      "|     stock_id|    page_name|     extraction_time|  factor|currency|date_years|date_days_months|  equity|\n",
      "+-------------+-------------+--------------------+--------+--------+----------+----------------+--------+\n",
      "|  AAPL:NASDAQ|balance-sheet|2022-10-14T18:52:...|Millions|     USD|      2022|           25/06|   58107|\n",
      "|  AAPL:NASDAQ|balance-sheet|2022-10-14T18:52:...|Millions|     USD|      2022|           26/03|   67399|\n",
      "|  AAPL:NASDAQ|balance-sheet|2022-10-14T18:52:...|Millions|     USD|      2021|           25/12|   71932|\n",
      "|  AAPL:NASDAQ|balance-sheet|2022-10-14T18:52:...|Millions|     USD|      2021|           25/09|   63090|\n",
      "|BCOLOMBIA:BVC|balance-sheet|2022-10-14T18:53:...|Millions|     COP|      2022|           30/06|35099020|\n",
      "|BCOLOMBIA:BVC|balance-sheet|2022-10-14T18:53:...|Millions|     COP|      2022|           31/03|30200262|\n",
      "|BCOLOMBIA:BVC|balance-sheet|2022-10-14T18:53:...|Millions|     COP|      2021|           31/12|32234347|\n",
      "|BCOLOMBIA:BVC|balance-sheet|2022-10-14T18:53:...|Millions|     COP|      2021|           30/09|30261139|\n",
      "|     CIB:NYSE|balance-sheet|2022-10-14T18:52:...|Millions|     COP|      2022|           30/06|35099020|\n",
      "|     CIB:NYSE|balance-sheet|2022-10-14T18:52:...|Millions|     COP|      2022|           31/03|30200262|\n",
      "|     CIB:NYSE|balance-sheet|2022-10-14T18:52:...|Millions|     COP|      2021|           31/12|32234347|\n",
      "|     CIB:NYSE|balance-sheet|2022-10-14T18:52:...|Millions|     COP|      2021|           30/09|30261139|\n",
      "|      EC:NYSE|balance-sheet|2022-10-14T18:52:...|Millions|        |      2022|           30/06|    null|\n",
      "|      EC:NYSE|balance-sheet|2022-10-14T18:52:...|Millions|        |      2022|           31/03|89144201|\n",
      "|      EC:NYSE|balance-sheet|2022-10-14T18:52:...|Millions|        |      2021|           31/12|71733024|\n",
      "|      EC:NYSE|balance-sheet|2022-10-14T18:52:...|Millions|        |      2021|           30/09|62994784|\n",
      "|ECOPETROL:BVC|balance-sheet|2022-10-14T18:52:...|Millions|     COP|      2022|           30/06|    null|\n",
      "|ECOPETROL:BVC|balance-sheet|2022-10-14T18:52:...|Millions|     COP|      2022|           31/03|89144201|\n",
      "|ECOPETROL:BVC|balance-sheet|2022-10-14T18:52:...|Millions|     COP|      2021|           31/12|71733024|\n",
      "|ECOPETROL:BVC|balance-sheet|2022-10-14T18:52:...|Millions|     COP|      2021|           30/09|62994784|\n",
      "+-------------+-------------+--------------------+--------+--------+----------+----------------+--------+\n",
      "only showing top 20 rows\n",
      "\n"
     ]
    }
   ],
   "source": [
    "balance_df = ti.transform_from_arrays(balance_df, BALANCE_ARRAY_COLS)\n",
    "balance_df.show()"
   ]
  },
  {
   "cell_type": "code",
   "execution_count": 14,
   "metadata": {},
   "outputs": [
    {
     "name": "stdout",
     "output_type": "stream",
     "text": [
      "+-------------+-------------+--------------------+--------+--------+--------+----------+\n",
      "|     stock_id|    page_name|     extraction_time|  factor|currency|  equity|      date|\n",
      "+-------------+-------------+--------------------+--------+--------+--------+----------+\n",
      "|  AAPL:NASDAQ|balance-sheet|2022-10-14T18:52:...|Millions|     USD|   58107|2022/25/06|\n",
      "|  AAPL:NASDAQ|balance-sheet|2022-10-14T18:52:...|Millions|     USD|   67399|2022/26/03|\n",
      "|  AAPL:NASDAQ|balance-sheet|2022-10-14T18:52:...|Millions|     USD|   71932|2021/25/12|\n",
      "|  AAPL:NASDAQ|balance-sheet|2022-10-14T18:52:...|Millions|     USD|   63090|2021/25/09|\n",
      "|BCOLOMBIA:BVC|balance-sheet|2022-10-14T18:53:...|Millions|     COP|35099020|2022/30/06|\n",
      "|BCOLOMBIA:BVC|balance-sheet|2022-10-14T18:53:...|Millions|     COP|30200262|2022/31/03|\n",
      "|BCOLOMBIA:BVC|balance-sheet|2022-10-14T18:53:...|Millions|     COP|32234347|2021/31/12|\n",
      "|BCOLOMBIA:BVC|balance-sheet|2022-10-14T18:53:...|Millions|     COP|30261139|2021/30/09|\n",
      "|     CIB:NYSE|balance-sheet|2022-10-14T18:52:...|Millions|     COP|35099020|2022/30/06|\n",
      "|     CIB:NYSE|balance-sheet|2022-10-14T18:52:...|Millions|     COP|30200262|2022/31/03|\n",
      "|     CIB:NYSE|balance-sheet|2022-10-14T18:52:...|Millions|     COP|32234347|2021/31/12|\n",
      "|     CIB:NYSE|balance-sheet|2022-10-14T18:52:...|Millions|     COP|30261139|2021/30/09|\n",
      "|      EC:NYSE|balance-sheet|2022-10-14T18:52:...|Millions|        |    null|2022/30/06|\n",
      "|      EC:NYSE|balance-sheet|2022-10-14T18:52:...|Millions|        |89144201|2022/31/03|\n",
      "|      EC:NYSE|balance-sheet|2022-10-14T18:52:...|Millions|        |71733024|2021/31/12|\n",
      "|      EC:NYSE|balance-sheet|2022-10-14T18:52:...|Millions|        |62994784|2021/30/09|\n",
      "|ECOPETROL:BVC|balance-sheet|2022-10-14T18:52:...|Millions|     COP|    null|2022/30/06|\n",
      "|ECOPETROL:BVC|balance-sheet|2022-10-14T18:52:...|Millions|     COP|89144201|2022/31/03|\n",
      "|ECOPETROL:BVC|balance-sheet|2022-10-14T18:52:...|Millions|     COP|71733024|2021/31/12|\n",
      "|ECOPETROL:BVC|balance-sheet|2022-10-14T18:52:...|Millions|     COP|62994784|2021/30/09|\n",
      "+-------------+-------------+--------------------+--------+--------+--------+----------+\n",
      "only showing top 20 rows\n",
      "\n"
     ]
    }
   ],
   "source": [
    "balance_df = ti.transform_date(balance_df)\n",
    "balance_df.show()"
   ]
  },
  {
   "cell_type": "markdown",
   "metadata": {},
   "source": [
    "Page: `income`"
   ]
  },
  {
   "cell_type": "code",
   "execution_count": 15,
   "metadata": {},
   "outputs": [
    {
     "name": "stdout",
     "output_type": "stream",
     "text": [
      "-RECORD 0--------------------------------------------------------------\n",
      " stock_id          | AAPL:NASDAQ                                       \n",
      " page_name         | income-statement                                  \n",
      " extraction_time   | 2022-10-14T18:52:59.347448                        \n",
      " date_days_months  | 25/06,26/03,25/12,25/09                           \n",
      " date_years        | 2022,2022,2021,2021                               \n",
      " gross_profits     | 35885,42559,54243,35174                           \n",
      " money_units       | * In Millions of USD (except for per share items) \n",
      " net_incomes       | 19442,25010,34630,20551                           \n",
      " operating_incomes | 23076,29979,41488,23786                           \n",
      " reveneus          | 82959,97278,123945,83360                          \n",
      " id                | 0                                                 \n",
      "-RECORD 1--------------------------------------------------------------\n",
      " stock_id          | BCOLOMBIA:BVC                                     \n",
      " page_name         | income-statement                                  \n",
      " extraction_time   | 2022-10-14T18:53:00.691773                        \n",
      " date_days_months  | 30/06,31/03,31/12,30/09                           \n",
      " date_years        | 2022,2022,2021,2021                               \n",
      " gross_profits     | null                                              \n",
      " money_units       | * In Millions of COP (except for per share items) \n",
      " net_incomes       | 1779695,1731858,1444744,942620                    \n",
      " operating_incomes | null                                              \n",
      " reveneus          | null                                              \n",
      " id                | 1                                                 \n",
      "-RECORD 2--------------------------------------------------------------\n",
      " stock_id          | CIB:NYSE                                          \n",
      " page_name         | income-statement                                  \n",
      " extraction_time   | 2022-10-14T18:52:59.489989                        \n",
      " date_days_months  | 30/06,31/03,31/12,30/09                           \n",
      " date_years        | 2022,2022,2021,2021                               \n",
      " gross_profits     | 4911324,-,-,-                                     \n",
      " money_units       | * In Millions of COP (except for per share items) \n",
      " net_incomes       | 1779695,1731858,1444744,942620                    \n",
      " operating_incomes | 2571281,-,-,-                                     \n",
      " reveneus          | 5088064,-,-,-                                     \n",
      " id                | 2                                                 \n",
      "-RECORD 3--------------------------------------------------------------\n",
      " stock_id          | EC:NYSE                                           \n",
      " page_name         | income-statement                                  \n",
      " extraction_time   | 2022-10-14T18:52:59.554673                        \n",
      " date_days_months  | 30/06,31/03,31/12,30/09                           \n",
      " date_years        | 2022,2022,2021,2021                               \n",
      " gross_profits     | -,14736268,12628781,8826762                       \n",
      " money_units       | * In Millions of (except for per share items)     \n",
      " net_incomes       | -,6572640,6077214,3807248                         \n",
      " operating_incomes | -,12664307,10388494,7102309                       \n",
      " reveneus          | -,32472744,31761115,23332762                      \n",
      " id                | 3                                                 \n",
      "-RECORD 4--------------------------------------------------------------\n",
      " stock_id          | ECOPETROL:BVC                                     \n",
      " page_name         | income-statement                                  \n",
      " extraction_time   | 2022-10-14T18:53:00.068412                        \n",
      " date_days_months  | 30/06,31/03,31/12,30/09                           \n",
      " date_years        | 2022,2022,2021,2021                               \n",
      " gross_profits     | -,14736268,12628781,8826762                       \n",
      " money_units       | * In Millions of COP (except for per share items) \n",
      " net_incomes       | -,6572640,6077214,3807248                         \n",
      " operating_incomes | -,12664307,10388494,7102309                       \n",
      " reveneus          | -,32472744,31761115,23332762                      \n",
      " id                | 4                                                 \n",
      "-RECORD 5--------------------------------------------------------------\n",
      " stock_id          | PFBCOLOM:BVC                                      \n",
      " page_name         | income-statement                                  \n",
      " extraction_time   | 2022-10-14T18:53:00.462319                        \n",
      " date_days_months  | 30/06,31/03,31/12,30/09                           \n",
      " date_years        | 2022,2022,2021,2021                               \n",
      " gross_profits     | null                                              \n",
      " money_units       | * In Millions of COP (except for per share items) \n",
      " net_incomes       | 1779695,1731858,1444744,942620                    \n",
      " operating_incomes | null                                              \n",
      " reveneus          | null                                              \n",
      " id                | 5                                                 \n",
      "\n"
     ]
    }
   ],
   "source": [
    "import pyspark.sql.functions as F\n",
    "\n",
    "income_df = ti.get_pivoted_page_df(investing_df, \"income-statement\")\n",
    "\n",
    "# `id` for added for demo purposes\n",
    "income_df = income_df.withColumn(\"id\", F.monotonically_increasing_id())\n",
    "\n",
    "income_df.show(truncate=False, vertical=True)"
   ]
  },
  {
   "cell_type": "code",
   "execution_count": 16,
   "metadata": {},
   "outputs": [
    {
     "name": "stdout",
     "output_type": "stream",
     "text": [
      "-RECORD 0-------------------------------------------\n",
      " stock_id          | AAPL:NASDAQ                    \n",
      " page_name         | income-statement               \n",
      " extraction_time   | 2022-10-14T18:52:59.347448     \n",
      " date_days_months  | 25/06,26/03,25/12,25/09        \n",
      " date_years        | 2022,2022,2021,2021            \n",
      " gross_profits     | 35885,42559,54243,35174        \n",
      " net_incomes       | 19442,25010,34630,20551        \n",
      " operating_incomes | 23076,29979,41488,23786        \n",
      " reveneus          | 82959,97278,123945,83360       \n",
      " id                | 0                              \n",
      " factor            | Millions                       \n",
      " currency          | USD                            \n",
      "-RECORD 1-------------------------------------------\n",
      " stock_id          | BCOLOMBIA:BVC                  \n",
      " page_name         | income-statement               \n",
      " extraction_time   | 2022-10-14T18:53:00.691773     \n",
      " date_days_months  | 30/06,31/03,31/12,30/09        \n",
      " date_years        | 2022,2022,2021,2021            \n",
      " gross_profits     | null                           \n",
      " net_incomes       | 1779695,1731858,1444744,942620 \n",
      " operating_incomes | null                           \n",
      " reveneus          | null                           \n",
      " id                | 1                              \n",
      " factor            | Millions                       \n",
      " currency          | COP                            \n",
      "-RECORD 2-------------------------------------------\n",
      " stock_id          | CIB:NYSE                       \n",
      " page_name         | income-statement               \n",
      " extraction_time   | 2022-10-14T18:52:59.489989     \n",
      " date_days_months  | 30/06,31/03,31/12,30/09        \n",
      " date_years        | 2022,2022,2021,2021            \n",
      " gross_profits     | 4911324,-,-,-                  \n",
      " net_incomes       | 1779695,1731858,1444744,942620 \n",
      " operating_incomes | 2571281,-,-,-                  \n",
      " reveneus          | 5088064,-,-,-                  \n",
      " id                | 2                              \n",
      " factor            | Millions                       \n",
      " currency          | COP                            \n",
      "-RECORD 3-------------------------------------------\n",
      " stock_id          | EC:NYSE                        \n",
      " page_name         | income-statement               \n",
      " extraction_time   | 2022-10-14T18:52:59.554673     \n",
      " date_days_months  | 30/06,31/03,31/12,30/09        \n",
      " date_years        | 2022,2022,2021,2021            \n",
      " gross_profits     | -,14736268,12628781,8826762    \n",
      " net_incomes       | -,6572640,6077214,3807248      \n",
      " operating_incomes | -,12664307,10388494,7102309    \n",
      " reveneus          | -,32472744,31761115,23332762   \n",
      " id                | 3                              \n",
      " factor            | Millions                       \n",
      " currency          |                                \n",
      "-RECORD 4-------------------------------------------\n",
      " stock_id          | ECOPETROL:BVC                  \n",
      " page_name         | income-statement               \n",
      " extraction_time   | 2022-10-14T18:53:00.068412     \n",
      " date_days_months  | 30/06,31/03,31/12,30/09        \n",
      " date_years        | 2022,2022,2021,2021            \n",
      " gross_profits     | -,14736268,12628781,8826762    \n",
      " net_incomes       | -,6572640,6077214,3807248      \n",
      " operating_incomes | -,12664307,10388494,7102309    \n",
      " reveneus          | -,32472744,31761115,23332762   \n",
      " id                | 4                              \n",
      " factor            | Millions                       \n",
      " currency          | COP                            \n",
      "-RECORD 5-------------------------------------------\n",
      " stock_id          | PFBCOLOM:BVC                   \n",
      " page_name         | income-statement               \n",
      " extraction_time   | 2022-10-14T18:53:00.462319     \n",
      " date_days_months  | 30/06,31/03,31/12,30/09        \n",
      " date_years        | 2022,2022,2021,2021            \n",
      " gross_profits     | null                           \n",
      " net_incomes       | 1779695,1731858,1444744,942620 \n",
      " operating_incomes | null                           \n",
      " reveneus          | null                           \n",
      " id                | 5                              \n",
      " factor            | Millions                       \n",
      " currency          | COP                            \n",
      "\n"
     ]
    }
   ],
   "source": [
    "income_df = ti.transform_money_units(income_df)\n",
    "income_df.show(truncate=False, vertical=True)"
   ]
  },
  {
   "cell_type": "code",
   "execution_count": 17,
   "metadata": {},
   "outputs": [
    {
     "name": "stdout",
     "output_type": "stream",
     "text": [
      "-RECORD 0---------------------------------------\n",
      " stock_id          | AAPL:NASDAQ                \n",
      " page_name         | income-statement           \n",
      " extraction_time   | 2022-10-14T18:52:59.347448 \n",
      " id                | 0                          \n",
      " factor            | Millions                   \n",
      " currency          | USD                        \n",
      " date_years        | 2022                       \n",
      " date_days_months  | 25/06                      \n",
      " gross_profits     | 35885                      \n",
      " net_incomes       | 19442                      \n",
      " operating_incomes | 23076                      \n",
      " reveneus          | 82959                      \n",
      "-RECORD 1---------------------------------------\n",
      " stock_id          | AAPL:NASDAQ                \n",
      " page_name         | income-statement           \n",
      " extraction_time   | 2022-10-14T18:52:59.347448 \n",
      " id                | 0                          \n",
      " factor            | Millions                   \n",
      " currency          | USD                        \n",
      " date_years        | 2022                       \n",
      " date_days_months  | 26/03                      \n",
      " gross_profits     | 42559                      \n",
      " net_incomes       | 25010                      \n",
      " operating_incomes | 29979                      \n",
      " reveneus          | 97278                      \n",
      "-RECORD 2---------------------------------------\n",
      " stock_id          | AAPL:NASDAQ                \n",
      " page_name         | income-statement           \n",
      " extraction_time   | 2022-10-14T18:52:59.347448 \n",
      " id                | 0                          \n",
      " factor            | Millions                   \n",
      " currency          | USD                        \n",
      " date_years        | 2021                       \n",
      " date_days_months  | 25/12                      \n",
      " gross_profits     | 54243                      \n",
      " net_incomes       | 34630                      \n",
      " operating_incomes | 41488                      \n",
      " reveneus          | 123945                     \n",
      "-RECORD 3---------------------------------------\n",
      " stock_id          | AAPL:NASDAQ                \n",
      " page_name         | income-statement           \n",
      " extraction_time   | 2022-10-14T18:52:59.347448 \n",
      " id                | 0                          \n",
      " factor            | Millions                   \n",
      " currency          | USD                        \n",
      " date_years        | 2021                       \n",
      " date_days_months  | 25/09                      \n",
      " gross_profits     | 35174                      \n",
      " net_incomes       | 20551                      \n",
      " operating_incomes | 23786                      \n",
      " reveneus          | 83360                      \n",
      "-RECORD 4---------------------------------------\n",
      " stock_id          | BCOLOMBIA:BVC              \n",
      " page_name         | income-statement           \n",
      " extraction_time   | 2022-10-14T18:53:00.691773 \n",
      " id                | 1                          \n",
      " factor            | Millions                   \n",
      " currency          | COP                        \n",
      " date_years        | 2022                       \n",
      " date_days_months  | 30/06                      \n",
      " gross_profits     | null                       \n",
      " net_incomes       | 1779695                    \n",
      " operating_incomes | null                       \n",
      " reveneus          | null                       \n",
      "only showing top 5 rows\n",
      "\n"
     ]
    }
   ],
   "source": [
    "income_df = ti.transform_from_arrays(income_df, INCOME_ARRAY_COLS)\n",
    "income_df.show(5, truncate=False, vertical=True)"
   ]
  },
  {
   "cell_type": "code",
   "execution_count": 18,
   "metadata": {},
   "outputs": [
    {
     "data": {
      "text/plain": [
       "24"
      ]
     },
     "execution_count": 18,
     "metadata": {},
     "output_type": "execute_result"
    }
   ],
   "source": [
    "income_df.count()"
   ]
  },
  {
   "cell_type": "code",
   "execution_count": 19,
   "metadata": {},
   "outputs": [
    {
     "name": "stdout",
     "output_type": "stream",
     "text": [
      "-RECORD 0---------------------------------------\n",
      " stock_id          | AAPL:NASDAQ                \n",
      " page_name         | income-statement           \n",
      " extraction_time   | 2022-10-14T18:52:59.347448 \n",
      " id                | 0                          \n",
      " factor            | Millions                   \n",
      " currency          | USD                        \n",
      " gross_profits     | 35885                      \n",
      " net_incomes       | 19442                      \n",
      " operating_incomes | 23076                      \n",
      " reveneus          | 82959                      \n",
      " date              | 2022/25/06                 \n",
      "-RECORD 1---------------------------------------\n",
      " stock_id          | AAPL:NASDAQ                \n",
      " page_name         | income-statement           \n",
      " extraction_time   | 2022-10-14T18:52:59.347448 \n",
      " id                | 0                          \n",
      " factor            | Millions                   \n",
      " currency          | USD                        \n",
      " gross_profits     | 42559                      \n",
      " net_incomes       | 25010                      \n",
      " operating_incomes | 29979                      \n",
      " reveneus          | 97278                      \n",
      " date              | 2022/26/03                 \n",
      "-RECORD 2---------------------------------------\n",
      " stock_id          | AAPL:NASDAQ                \n",
      " page_name         | income-statement           \n",
      " extraction_time   | 2022-10-14T18:52:59.347448 \n",
      " id                | 0                          \n",
      " factor            | Millions                   \n",
      " currency          | USD                        \n",
      " gross_profits     | 54243                      \n",
      " net_incomes       | 34630                      \n",
      " operating_incomes | 41488                      \n",
      " reveneus          | 123945                     \n",
      " date              | 2021/25/12                 \n",
      "-RECORD 3---------------------------------------\n",
      " stock_id          | AAPL:NASDAQ                \n",
      " page_name         | income-statement           \n",
      " extraction_time   | 2022-10-14T18:52:59.347448 \n",
      " id                | 0                          \n",
      " factor            | Millions                   \n",
      " currency          | USD                        \n",
      " gross_profits     | 35174                      \n",
      " net_incomes       | 20551                      \n",
      " operating_incomes | 23786                      \n",
      " reveneus          | 83360                      \n",
      " date              | 2021/25/09                 \n",
      "-RECORD 4---------------------------------------\n",
      " stock_id          | BCOLOMBIA:BVC              \n",
      " page_name         | income-statement           \n",
      " extraction_time   | 2022-10-14T18:53:00.691773 \n",
      " id                | 1                          \n",
      " factor            | Millions                   \n",
      " currency          | COP                        \n",
      " gross_profits     | null                       \n",
      " net_incomes       | 1779695                    \n",
      " operating_incomes | null                       \n",
      " reveneus          | null                       \n",
      " date              | 2022/30/06                 \n",
      "only showing top 5 rows\n",
      "\n"
     ]
    }
   ],
   "source": [
    "income_df = ti.transform_date(income_df)\n",
    "income_df.show(5, truncate=False, vertical=True)"
   ]
  },
  {
   "cell_type": "markdown",
   "metadata": {},
   "source": [
    "Stop Spark session:"
   ]
  },
  {
   "cell_type": "code",
   "execution_count": 20,
   "metadata": {},
   "outputs": [],
   "source": [
    "spark.stop()"
   ]
  }
 ],
 "metadata": {
  "kernelspec": {
   "display_name": "Python 3.8.9 ('venv': venv)",
   "language": "python",
   "name": "python3"
  },
  "language_info": {
   "codemirror_mode": {
    "name": "ipython",
    "version": 3
   },
   "file_extension": ".py",
   "mimetype": "text/x-python",
   "name": "python",
   "nbconvert_exporter": "python",
   "pygments_lexer": "ipython3",
   "version": "3.8.9"
  },
  "orig_nbformat": 4,
  "vscode": {
   "interpreter": {
    "hash": "bde5c611fbd6e520fbaec12b69140bd104517f004857c821ced2773ff408a818"
   }
  }
 },
 "nbformat": 4,
 "nbformat_minor": 2
}
